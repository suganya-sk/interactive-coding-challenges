{
 "cells": [
  {
   "cell_type": "markdown",
   "metadata": {},
   "source": [
    "This notebook was prepared by [hashhar](https://github.com/hashhar). Source and license info is on [GitHub](https://github.com/donnemartin/interactive-coding-challenges)."
   ]
  },
  {
   "cell_type": "markdown",
   "metadata": {},
   "source": [
    "# Challenge Notebook"
   ]
  },
  {
   "cell_type": "markdown",
   "metadata": {},
   "source": [
    "## Problem: Compress a string such that 'AAABCCDDDD' becomes 'A3BCCD4'.  Only compress the string if it saves space.\n",
    "\n",
    "* [Constraints](#Constraints)\n",
    "* [Test Cases](#Test-Cases)\n",
    "* [Algorithm](#Algorithm)\n",
    "* [Code](#Code)\n",
    "* [Unit Test](#Unit-Test)\n",
    "* [Solution Notebook](#Solution-Notebook)"
   ]
  },
  {
   "cell_type": "markdown",
   "metadata": {},
   "source": [
    "## Constraints\n",
    "\n",
    "* Can we assume the string is ASCII?\n",
    "    * Yes\n",
    "    * Note: Unicode strings could require special handling depending on your language\n",
    "* Is this case sensitive?\n",
    "    * Yes\n",
    "* Can we use additional data structures?  \n",
    "    * Yes\n",
    "* Can we assume this fits in memory?\n",
    "    * Yes"
   ]
  },
  {
   "cell_type": "markdown",
   "metadata": {},
   "source": [
    "## Test Cases\n",
    "\n",
    "* None -> None\n",
    "* '' -> ''\n",
    "* 'AABBCC' -> 'AABBCC'\n",
    "* 'AAABCCDDDD' -> 'A3BCCD4'"
   ]
  },
  {
   "cell_type": "markdown",
   "metadata": {},
   "source": [
    "## Algorithm\n",
    "\n",
    "Refer to the [Solution Notebook](http://nbviewer.ipython.org/github/donnemartin/interactive-coding-challenges/blob/master/arrays_strings/compress_alt/better_compress_solution.ipynb).  If you are stuck and need a hint, the solution notebook's algorithm discussion might be a good place to start."
   ]
  },
  {
   "cell_type": "markdown",
   "metadata": {},
   "source": [
    "## Code"
   ]
  },
  {
   "cell_type": "code",
   "execution_count": 1,
   "metadata": {},
   "outputs": [],
   "source": [
    "def build_char_count(char, count):\n",
    "    count_as_char = '' if count==1 else char if count==2 else str(count)\n",
    "    return ''.join((char, count_as_char))\n",
    "\n",
    "def compress_string(string):\n",
    "    if string:\n",
    "        result = []\n",
    "        cur_char = string[0]\n",
    "        count = 0\n",
    "        for char in string:\n",
    "            if char == cur_char:\n",
    "                count += 1\n",
    "            else:\n",
    "                result.append(build_char_count(cur_char, count))\n",
    "                cur_char = char\n",
    "                count = 1\n",
    "        result.append(build_char_count(cur_char, count))\n",
    "        compressed = ''.join(result)\n",
    "        if len(string) == len(compressed):\n",
    "            return string\n",
    "        return compressed\n",
    "    else:\n",
    "        return string"
   ]
  },
  {
   "cell_type": "markdown",
   "metadata": {},
   "source": [
    "## Unit Test"
   ]
  },
  {
   "cell_type": "markdown",
   "metadata": {},
   "source": [
    "\n",
    "\n",
    "**The following unit test is expected to fail until you solve the challenge.**"
   ]
  },
  {
   "cell_type": "code",
   "execution_count": 2,
   "metadata": {},
   "outputs": [
    {
     "name": "stdout",
     "output_type": "stream",
     "text": [
      "Success: test_compress\n"
     ]
    }
   ],
   "source": [
    "# %load test_compress.py\n",
    "import unittest\n",
    "\n",
    "\n",
    "class TestCompress(unittest.TestCase):\n",
    "\n",
    "    def test_compress(self, func):\n",
    "        self.assertEqual(func(None), None)\n",
    "        self.assertEqual(func(''), '')\n",
    "        self.assertEqual(func('AABBCC'), 'AABBCC')\n",
    "        self.assertEqual(func('AAABCCDDDD'), 'A3BCCD4')\n",
    "        self.assertEqual(\n",
    "            func('aaBCCEFFFFKKMMMMMMP taaammanlaarrrr seeeeeeeeek tooo'),\n",
    "            'aaBCCEF4KKM6P ta3mmanlaar4 se9k to3',\n",
    "        )\n",
    "        print('Success: test_compress')\n",
    "\n",
    "\n",
    "def main():\n",
    "    test = TestCompress()\n",
    "    test.test_compress(compress_string)\n",
    "\n",
    "\n",
    "if __name__ == '__main__':\n",
    "    main()"
   ]
  },
  {
   "cell_type": "markdown",
   "metadata": {},
   "source": [
    "## Solution Notebook\n",
    "\n",
    "Review the [Solution Notebook](http://nbviewer.ipython.org/github/donnemartin/interactive-coding-challenges/blob/master/arrays_strings/compress_alt/better_compress_solution.ipynb) for a discussion on algorithms and code solutions."
   ]
  }
 ],
 "metadata": {
  "kernelspec": {
   "display_name": "Python 3",
   "language": "python",
   "name": "python3"
  },
  "language_info": {
   "codemirror_mode": {
    "name": "ipython",
    "version": 3
   },
   "file_extension": ".py",
   "mimetype": "text/x-python",
   "name": "python",
   "nbconvert_exporter": "python",
   "pygments_lexer": "ipython3",
   "version": "3.5.2"
  }
 },
 "nbformat": 4,
 "nbformat_minor": 1
}
